{
 "cells": [
  {
   "cell_type": "markdown",
   "metadata": {},
   "source": [
    "# ECI 273 Project"
   ]
  },
  {
   "cell_type": "code",
   "execution_count": 3,
   "metadata": {},
   "outputs": [],
   "source": [
    "import pandas as pd\n",
    "import numpy as np\n",
    "import keras\n",
    "from sklearn.preprocessing import MinMaxScaler, OneHotEncoder\n",
    "from sklearn.pipeline import make_pipeline\n",
    "from sklearn.ensemble import IsolationForest\n",
    "from sklearn.neighbors import LocalOutlierFactor\n",
    "from sklearn.covariance import EllipticEnvelope\n",
    "from sklearn.svm import OneClassSVM\n",
    "from sklearn.neural_network import MLPClassifier\n",
    "from sklearn.model_selection import train_test_split\n",
    "import seaborn as sns\n",
    "from sklearn import datasets\n",
    "import tensorflow as tf\n",
    "from tensorflow import keras\n",
    "from keras.layers import *\n",
    "from keras.models import *\n",
    "import tensorflow as tf\n",
    "from tensorflow import keras\n",
    "from tensorflow.keras import layers\n",
    "from sklearn import linear_model\n",
    "from sklearn.metrics import r2_score\n"
   ]
  },
  {
   "cell_type": "code",
   "execution_count": 4,
   "metadata": {},
   "outputs": [],
   "source": [
    "class LinearRegression:\n",
    "    #constructor to initialize the coefficient array\n",
    "    def __init__(self):\n",
    "        self.b = []\n",
    "        \n",
    "    def fit(self,x,y,order):\n",
    "        N = len(x)\n",
    "        if order == 0:\n",
    "            X = np.c_[np.ones(N)]\n",
    "        elif order == 1:\n",
    "            X = np.c_[np.ones(N),x]\n",
    "        elif order == 2:\n",
    "            X = np.c_[np.ones(N),x,np.square(x)]\n",
    "        else:\n",
    "            X = np.c_[np.ones(N),x,np.square(x),np.power(x,3)]\n",
    "#         print(X)\n",
    "        self.b = X.T@y@np.linalg.inv(X.T@X)\n",
    "        \n",
    "\n",
    "\n",
    "    def predict(self,x):\n",
    "#         print(self.b)\n",
    "        prediction = []\n",
    "        for i in range(len(x)):\n",
    "            pred = self.b[0]\n",
    "            for j in range(1,len(self.b)):\n",
    "                pred+=self.b[j]*np.power(x[i],j)\n",
    "            prediction.append(pred)\n",
    "        return prediction\n",
    "    \n",
    "    def mse(self,y,prediction):\n",
    "        s = 0\n",
    "        for i in range(len(y)):\n",
    "            s+=(y[i]-prediction[i])**2\n",
    "        score = s/len(y)\n",
    "        return score"
   ]
  },
  {
   "cell_type": "code",
   "execution_count": 171,
   "metadata": {},
   "outputs": [],
   "source": [
    "df = pd.read_csv('D:/UC DAVIS/ECI 273/project/data/clean_data.csv', delimiter=',')"
   ]
  },
  {
   "cell_type": "code",
   "execution_count": 172,
   "metadata": {},
   "outputs": [
    {
     "data": {
      "text/html": [
       "<div>\n",
       "<style scoped>\n",
       "    .dataframe tbody tr th:only-of-type {\n",
       "        vertical-align: middle;\n",
       "    }\n",
       "\n",
       "    .dataframe tbody tr th {\n",
       "        vertical-align: top;\n",
       "    }\n",
       "\n",
       "    .dataframe thead th {\n",
       "        text-align: right;\n",
       "    }\n",
       "</style>\n",
       "<table border=\"1\" class=\"dataframe\">\n",
       "  <thead>\n",
       "    <tr style=\"text-align: right;\">\n",
       "      <th></th>\n",
       "      <th>evaporation</th>\n",
       "      <th>inflow</th>\n",
       "      <th>elevation</th>\n",
       "      <th>storage</th>\n",
       "      <th>outflow</th>\n",
       "      <th>inflow_catego</th>\n",
       "      <th>outflow_catego</th>\n",
       "    </tr>\n",
       "  </thead>\n",
       "  <tbody>\n",
       "    <tr>\n",
       "      <th>0</th>\n",
       "      <td>1.230449</td>\n",
       "      <td>3.382737</td>\n",
       "      <td>2.866925</td>\n",
       "      <td>13.829758</td>\n",
       "      <td>3.550840</td>\n",
       "      <td>drought</td>\n",
       "      <td>okay</td>\n",
       "    </tr>\n",
       "    <tr>\n",
       "      <th>1</th>\n",
       "      <td>1.113943</td>\n",
       "      <td>3.318481</td>\n",
       "      <td>2.866701</td>\n",
       "      <td>13.828818</td>\n",
       "      <td>3.585122</td>\n",
       "      <td>drought</td>\n",
       "      <td>okay</td>\n",
       "    </tr>\n",
       "    <tr>\n",
       "      <th>2</th>\n",
       "      <td>1.591065</td>\n",
       "      <td>3.204663</td>\n",
       "      <td>2.866465</td>\n",
       "      <td>13.827829</td>\n",
       "      <td>3.523616</td>\n",
       "      <td>drought</td>\n",
       "      <td>okay</td>\n",
       "    </tr>\n",
       "    <tr>\n",
       "      <th>3</th>\n",
       "      <td>1.361728</td>\n",
       "      <td>3.304706</td>\n",
       "      <td>2.866234</td>\n",
       "      <td>13.826863</td>\n",
       "      <td>3.570776</td>\n",
       "      <td>drought</td>\n",
       "      <td>okay</td>\n",
       "    </tr>\n",
       "    <tr>\n",
       "      <th>4</th>\n",
       "      <td>1.361728</td>\n",
       "      <td>3.281488</td>\n",
       "      <td>2.865986</td>\n",
       "      <td>13.825822</td>\n",
       "      <td>3.568554</td>\n",
       "      <td>drought</td>\n",
       "      <td>okay</td>\n",
       "    </tr>\n",
       "    <tr>\n",
       "      <th>...</th>\n",
       "      <td>...</td>\n",
       "      <td>...</td>\n",
       "      <td>...</td>\n",
       "      <td>...</td>\n",
       "      <td>...</td>\n",
       "      <td>...</td>\n",
       "      <td>...</td>\n",
       "    </tr>\n",
       "    <tr>\n",
       "      <th>1798</th>\n",
       "      <td>1.176091</td>\n",
       "      <td>3.480438</td>\n",
       "      <td>2.820851</td>\n",
       "      <td>13.633561</td>\n",
       "      <td>3.301030</td>\n",
       "      <td>okay</td>\n",
       "      <td>drought</td>\n",
       "    </tr>\n",
       "    <tr>\n",
       "      <th>1799</th>\n",
       "      <td>1.278754</td>\n",
       "      <td>3.546296</td>\n",
       "      <td>2.821160</td>\n",
       "      <td>13.634895</td>\n",
       "      <td>3.301030</td>\n",
       "      <td>okay</td>\n",
       "      <td>drought</td>\n",
       "    </tr>\n",
       "    <tr>\n",
       "      <th>1800</th>\n",
       "      <td>1.342423</td>\n",
       "      <td>3.566437</td>\n",
       "      <td>2.821507</td>\n",
       "      <td>13.636399</td>\n",
       "      <td>3.278754</td>\n",
       "      <td>okay</td>\n",
       "      <td>drought</td>\n",
       "    </tr>\n",
       "    <tr>\n",
       "      <th>1801</th>\n",
       "      <td>1.000000</td>\n",
       "      <td>3.413970</td>\n",
       "      <td>2.821664</td>\n",
       "      <td>13.637079</td>\n",
       "      <td>3.255273</td>\n",
       "      <td>drought</td>\n",
       "      <td>drought</td>\n",
       "    </tr>\n",
       "    <tr>\n",
       "      <th>1802</th>\n",
       "      <td>0.845098</td>\n",
       "      <td>3.344196</td>\n",
       "      <td>2.821730</td>\n",
       "      <td>13.637362</td>\n",
       "      <td>3.273001</td>\n",
       "      <td>drought</td>\n",
       "      <td>drought</td>\n",
       "    </tr>\n",
       "  </tbody>\n",
       "</table>\n",
       "<p>1803 rows × 7 columns</p>\n",
       "</div>"
      ],
      "text/plain": [
       "      evaporation    inflow  elevation    storage   outflow inflow_catego  \\\n",
       "0        1.230449  3.382737   2.866925  13.829758  3.550840       drought   \n",
       "1        1.113943  3.318481   2.866701  13.828818  3.585122       drought   \n",
       "2        1.591065  3.204663   2.866465  13.827829  3.523616       drought   \n",
       "3        1.361728  3.304706   2.866234  13.826863  3.570776       drought   \n",
       "4        1.361728  3.281488   2.865986  13.825822  3.568554       drought   \n",
       "...           ...       ...        ...        ...       ...           ...   \n",
       "1798     1.176091  3.480438   2.820851  13.633561  3.301030          okay   \n",
       "1799     1.278754  3.546296   2.821160  13.634895  3.301030          okay   \n",
       "1800     1.342423  3.566437   2.821507  13.636399  3.278754          okay   \n",
       "1801     1.000000  3.413970   2.821664  13.637079  3.255273       drought   \n",
       "1802     0.845098  3.344196   2.821730  13.637362  3.273001       drought   \n",
       "\n",
       "     outflow_catego  \n",
       "0              okay  \n",
       "1              okay  \n",
       "2              okay  \n",
       "3              okay  \n",
       "4              okay  \n",
       "...             ...  \n",
       "1798        drought  \n",
       "1799        drought  \n",
       "1800        drought  \n",
       "1801        drought  \n",
       "1802        drought  \n",
       "\n",
       "[1803 rows x 7 columns]"
      ]
     },
     "execution_count": 172,
     "metadata": {},
     "output_type": "execute_result"
    }
   ],
   "source": [
    "df"
   ]
  },
  {
   "cell_type": "markdown",
   "metadata": {},
   "source": [
    "## Multivariate Linear Regression"
   ]
  },
  {
   "cell_type": "code",
   "execution_count": 176,
   "metadata": {},
   "outputs": [
    {
     "data": {
      "text/plain": [
       "False"
      ]
     },
     "execution_count": 176,
     "metadata": {},
     "output_type": "execute_result"
    }
   ],
   "source": [
    "df = df.dropna()\n",
    "df = df.reset_index(drop=True)\n",
    "# df = df.rename(columns={\"evap_cfs\": \"evaporation\", \"inflow_cfs\": \"inflow\", \"elevation_feet\": \"elevation\",\"storage_ft\": \"storage\",\"outflow_cfs\": \"outflow\" })\n",
    "df['outflow'].isnull().values.any()\n"
   ]
  },
  {
   "cell_type": "code",
   "execution_count": 185,
   "metadata": {},
   "outputs": [
    {
     "data": {
      "text/plain": [
       "LinearRegression()"
      ]
     },
     "execution_count": 185,
     "metadata": {},
     "output_type": "execute_result"
    }
   ],
   "source": [
    "from sklearn import linear_model\n",
    "\n",
    "# x = df.iloc[:,:4].values\n",
    "# x = df.drop(['EVAP CFS','inflow_cfs','elevation_feet','ppt_inches','storage_taf'],1)\n",
    "# y = df[\"outflow_catego\"].values\n",
    "\n",
    "\n",
    "reg = linear_model.LinearRegression()\n",
    "reg.fit(df[['evaporation','outflow','elevation','storage']],df.outflow)"
   ]
  },
  {
   "cell_type": "code",
   "execution_count": 186,
   "metadata": {},
   "outputs": [],
   "source": [
    "#separate the other attributes from the predicting attribute\n",
    "x = df[['evaporation','inflow','elevation','storage']]\n",
    "#separte the predicting attribute into Y for model training \n",
    "y = df['outflow']"
   ]
  },
  {
   "cell_type": "code",
   "execution_count": 187,
   "metadata": {},
   "outputs": [],
   "source": [
    "# importing train_test_split from sklearn\n",
    "from sklearn.model_selection import train_test_split\n",
    "# splitting the data\n",
    "x_train, x_test, y_train, y_test = train_test_split(x, y, test_size = 0.2, random_state = 42)"
   ]
  },
  {
   "cell_type": "code",
   "execution_count": 188,
   "metadata": {},
   "outputs": [
    {
     "data": {
      "text/plain": [
       "LinearRegression()"
      ]
     },
     "execution_count": 188,
     "metadata": {},
     "output_type": "execute_result"
    }
   ],
   "source": [
    "# importing module\n",
    "from sklearn.linear_model import LinearRegression\n",
    "# creating an object of LinearRegression class\n",
    "LR = LinearRegression()\n",
    "# fitting the training data\n",
    "LR.fit(x_train,y_train)"
   ]
  },
  {
   "cell_type": "code",
   "execution_count": 189,
   "metadata": {},
   "outputs": [
    {
     "name": "stdout",
     "output_type": "stream",
     "text": [
      "0.2851238656346473\n"
     ]
    }
   ],
   "source": [
    "y_prediction =  LR.predict(x_test)\n",
    "r2 = r2_score(y_test, y_prediction)\n",
    "\n",
    "print(r2)"
   ]
  },
  {
   "cell_type": "code",
   "execution_count": 182,
   "metadata": {},
   "outputs": [],
   "source": [
    "## Plotting"
   ]
  },
  {
   "cell_type": "code",
   "execution_count": 183,
   "metadata": {},
   "outputs": [
    {
     "data": {
      "text/plain": [
       "361"
      ]
     },
     "execution_count": 183,
     "metadata": {},
     "output_type": "execute_result"
    }
   ],
   "source": [
    "len(time_new)"
   ]
  },
  {
   "cell_type": "code",
   "execution_count": 190,
   "metadata": {},
   "outputs": [
    {
     "data": {
      "image/png": "[encoded data removed]",
      "text/plain": [
       "<Figure size 1116x612 with 1 Axes>"
      ]
     },
     "metadata": {
      "needs_background": "light"
     },
     "output_type": "display_data"
    }
   ],
   "source": [
    "# first we get some dates\n",
    "\n",
    "time_init = np.arange(0,len(y_train),1)\n",
    "time_new = np.arange(len(time_init),len(df['outflow']),1)\n",
    "fig = plt.figure()\n",
    "fig.set_size_inches(15.5, 8.5)\n",
    "\n",
    "ax1 = fig.add_subplot(111)\n",
    "\n",
    "ax1.scatter(time_init, y_train, marker='o', label='Training Data')\n",
    "ax1.scatter(time_new, y_prediction, marker='o',alpha = 0.5, label='Predicted Data')\n",
    "ax1.scatter(time_new, y_test, marker='o',alpha = 0.5, label='Test Data')\n",
    "# ax1.scatter(x[40:],y[40:], s=10, c='r', marker=\"o\", label='second')\n",
    "plt.legend(loc='lower right')\n",
    "plt.xlabel('Days since 11/07/2016')\n",
    "plt.ylabel('Outflow')\n",
    "plt.show()\n"
   ]
  },
  {
   "cell_type": "code",
   "execution_count": 75,
   "metadata": {},
   "outputs": [],
   "source": [
    "def multi_var(data_x,data_y):\n",
    "    cols = ['evaporation','outflow','elevation','storage']\n",
    "    data_y = df['inflow']\n",
    "    for col in cols:\n",
    "        data_x = df[['evaporation','inflow','elevation','storage']]\n",
    "        data_x = x.drop(columns=[col])\n",
    "\n",
    "        #separte the predicting attribute into Y for model training \n",
    "        x_train, x_test, y_train, y_test = train_test_split(data_x, data_y, test_size = 0.2, random_state = 42)\n",
    "        LR.fit(x_train,y_train)\n",
    "        y_prediction =  LR.predict(x_test)\n",
    "        r2 = r2_score(y_test, y_prediction)\n",
    "\n",
    "        print('The r2 score without %s is %f,'% (col, r2))"
   ]
  },
  {
   "cell_type": "code",
   "execution_count": 76,
   "metadata": {},
   "outputs": [
    {
     "name": "stdout",
     "output_type": "stream",
     "text": [
      "The r2 score without evaporation is 0.279425,\n",
      "The r2 score without outflow is 0.472007,\n",
      "The r2 score without elevation is 0.393915,\n",
      "The r2 score without storage is 0.398300,\n"
     ]
    }
   ],
   "source": [
    "multi_var(x,y)"
   ]
  },
  {
   "cell_type": "code",
   "execution_count": 118,
   "metadata": {},
   "outputs": [],
   "source": [
    "def four_var(data_x,data_y):\n",
    "    feats = ['evaporation','inflow','elevation','storage','outflow']\n",
    "    for j in feats:\n",
    "        # this is the factor u are testing for the score\n",
    "        cols = ['evaporation','inflow','elevation','storage']\n",
    "        data_y = df['outflow']\n",
    "        for col in cols:\n",
    "            data_x = df[['evaporation','inflow','elevation','storage']]\n",
    "            data_x = data_x.drop(columns=[col])\n",
    "\n",
    "            #separte the predicting attribute into Y for model training \n",
    "            x_train, x_test, y_train, y_test = train_test_split(data_x, data_y, test_size = 0.2, random_state = 42)\n",
    "            LR.fit(x_train,y_train)\n",
    "            y_prediction =  LR.predict(x_test)\n",
    "            r2 = r2_score(y_test, y_prediction)\n",
    "\n",
    "            print('The r2 score without %s is %f,'% (col, r2))"
   ]
  },
  {
   "cell_type": "markdown",
   "metadata": {},
   "source": [
    "## Try and improve the R2 score"
   ]
  },
  {
   "cell_type": "code",
   "execution_count": 201,
   "metadata": {},
   "outputs": [],
   "source": [
    "#separate the other attributes from the predicting attribute\n",
    "x = df[['evaporation','outflow','elevation','storage']]\n",
    "#separte the predicting attribute into Y for model training \n",
    "y = df['inflow']\n",
    "\n",
    "x_train, x_test, y_train, y_test = train_test_split(x, y, test_size = 0.2, random_state = 42)"
   ]
  },
  {
   "cell_type": "code",
   "execution_count": 202,
   "metadata": {},
   "outputs": [],
   "source": [
    "from sklearn.model_selection import cross_val_score\n",
    "# function to get cross validation scores\n",
    "def get_cv_scores(model):\n",
    "    scores = cross_val_score(model,\n",
    "                             x_train,\n",
    "                             y_train,\n",
    "                             cv=5,\n",
    "                             scoring='r2')\n",
    "    \n",
    "    print('CV Mean: ', np.mean(scores))\n",
    "    print('STD: ', np.std(scores))\n",
    "    print('\\n')"
   ]
  },
  {
   "cell_type": "code",
   "execution_count": 203,
   "metadata": {},
   "outputs": [
    {
     "name": "stdout",
     "output_type": "stream",
     "text": [
      "CV Mean:  0.4867421613429125\n",
      "STD:  0.016152381691440638\n",
      "\n",
      "\n"
     ]
    }
   ],
   "source": [
    "from sklearn.linear_model import LinearRegression\n",
    "# Train model\n",
    "lr = LinearRegression().fit(x_train, y_train)\n",
    "# get cross val scores\n",
    "get_cv_scores(lr)"
   ]
  },
  {
   "cell_type": "code",
   "execution_count": 204,
   "metadata": {},
   "outputs": [
    {
     "name": "stdout",
     "output_type": "stream",
     "text": [
      "CV Mean:  0.4365337510430492\n",
      "STD:  0.032540021623699164\n",
      "\n",
      "\n"
     ]
    }
   ],
   "source": [
    "from sklearn.linear_model import Ridge\n",
    "# Train model with default alpha=1\n",
    "ridge = Ridge(alpha=1).fit(x_train, y_train)\n",
    "# get cross val scores\n",
    "get_cv_scores(ridge)"
   ]
  },
  {
   "cell_type": "code",
   "execution_count": 205,
   "metadata": {},
   "outputs": [
    {
     "name": "stdout",
     "output_type": "stream",
     "text": [
      "Fitting 5 folds for each of 7 candidates, totalling 35 fits\n"
     ]
    },
    {
     "name": "stderr",
     "output_type": "stream",
     "text": [
      "[Parallel(n_jobs=-1)]: Using backend LokyBackend with 8 concurrent workers.\n"
     ]
    },
    {
     "name": "stdout",
     "output_type": "stream",
     "text": [
      "Best Score:  0.4543377497114921\n",
      "Best Params:  {'alpha': 0.001}\n"
     ]
    },
    {
     "name": "stderr",
     "output_type": "stream",
     "text": [
      "[Parallel(n_jobs=-1)]: Done  20 out of  35 | elapsed:    0.2s remaining:    0.1s\n",
      "[Parallel(n_jobs=-1)]: Done  35 out of  35 | elapsed:    0.3s finished\n"
     ]
    }
   ],
   "source": [
    "\n",
    "from sklearn import svm, datasets\n",
    "from sklearn.model_selection import GridSearchCV# find optimal alpha with grid search\n",
    "alpha = [0.001, 0.01, 0.1, 1, 10, 100, 1000]\n",
    "param_grid = dict(alpha=alpha)\n",
    "grid = GridSearchCV(estimator=ridge, param_grid=param_grid, scoring='r2', verbose=1, n_jobs=-1)\n",
    "grid_result = grid.fit(x_train, y_train)\n",
    "print('Best Score: ', grid_result.best_score_)\n",
    "print('Best Params: ', grid_result.best_params_)"
   ]
  },
  {
   "cell_type": "code",
   "execution_count": 207,
   "metadata": {},
   "outputs": [
    {
     "name": "stdout",
     "output_type": "stream",
     "text": [
      "CV Mean:  -0.008946893765071007\n",
      "STD:  0.012130025873079275\n",
      "\n",
      "\n"
     ]
    }
   ],
   "source": [
    "from sklearn.linear_model import Lasso\n",
    "# Train model with default alpha=1\n",
    "lasso = Lasso(alpha=1).fit(x_train, y_train)\n",
    "# get cross val scores\n",
    "get_cv_scores(lasso)"
   ]
  },
  {
   "cell_type": "code",
   "execution_count": 208,
   "metadata": {},
   "outputs": [
    {
     "name": "stderr",
     "output_type": "stream",
     "text": [
      "[Parallel(n_jobs=-1)]: Using backend LokyBackend with 8 concurrent workers.\n",
      "[Parallel(n_jobs=-1)]: Done  20 out of  35 | elapsed:    0.0s remaining:    0.0s\n"
     ]
    },
    {
     "name": "stdout",
     "output_type": "stream",
     "text": [
      "Fitting 5 folds for each of 7 candidates, totalling 35 fits\n",
      "Best Score:  0.4366012612563307\n",
      "Best Params:  {'alpha': 0.001}\n"
     ]
    },
    {
     "name": "stderr",
     "output_type": "stream",
     "text": [
      "[Parallel(n_jobs=-1)]: Done  35 out of  35 | elapsed:    0.0s finished\n"
     ]
    }
   ],
   "source": [
    "# find optimal alpha with grid search\n",
    "alpha = [0.001, 0.01, 0.1, 1, 10, 100, 1000]\n",
    "param_grid = dict(alpha=alpha)\n",
    "grid = GridSearchCV(estimator=lasso, param_grid=param_grid, scoring='r2', verbose=1, n_jobs=-1)\n",
    "grid_result = grid.fit(x_train, y_train)\n",
    "print('Best Score: ', grid_result.best_score_)\n",
    "print('Best Params: ', grid_result.best_params_)"
   ]
  },
  {
   "cell_type": "code",
   "execution_count": 199,
   "metadata": {},
   "outputs": [
    {
     "name": "stdout",
     "output_type": "stream",
     "text": [
      "evaporation:  0.0\n",
      "inflow:  0.0\n",
      "elevation:  0.0\n",
      "storage:  0.0\n"
     ]
    }
   ],
   "source": [
    "# match column names to coefficients\n",
    "for coef, col in enumerate(x_train.columns):\n",
    "    print(f'{col}:  {lasso.coef_[coef]}')"
   ]
  },
  {
   "cell_type": "code",
   "execution_count": 200,
   "metadata": {},
   "outputs": [
    {
     "name": "stdout",
     "output_type": "stream",
     "text": [
      "CV Mean:  -0.006886752356987191\n",
      "STD:  0.00494908188631456\n",
      "\n",
      "\n"
     ]
    }
   ],
   "source": [
    "from sklearn.linear_model import ElasticNet\n",
    "# Train model with default alpha=1 and l1_ratio=0.5\n",
    "elastic_net = ElasticNet(alpha=1, l1_ratio=0.5).fit(x_train, y_train)\n",
    "# get cross val scores\n",
    "get_cv_scores(elastic_net)"
   ]
  },
  {
   "cell_type": "code",
   "execution_count": 134,
   "metadata": {},
   "outputs": [
    {
     "name": "stdout",
     "output_type": "stream",
     "text": [
      "Fitting 5 folds for each of 77 candidates, totalling 385 fits\n"
     ]
    },
    {
     "name": "stderr",
     "output_type": "stream",
     "text": [
      "[Parallel(n_jobs=-1)]: Using backend LokyBackend with 8 concurrent workers.\n",
      "[Parallel(n_jobs=-1)]: Done  56 tasks      | elapsed:    0.1s\n"
     ]
    },
    {
     "name": "stdout",
     "output_type": "stream",
     "text": [
      "Best Score:  0.4366012612563307\n",
      "Best Params:  {'alpha': 0.001, 'l1_ratio': 1}\n"
     ]
    },
    {
     "name": "stderr",
     "output_type": "stream",
     "text": [
      "[Parallel(n_jobs=-1)]: Done 385 out of 385 | elapsed:    0.5s finished\n"
     ]
    }
   ],
   "source": [
    "# find optimal alpha with grid search\n",
    "alpha = [0.001, 0.01, 0.1, 1, 10, 100, 1000]\n",
    "l1_ratio = [0, 0.1, 0.2, 0.3, 0.4, 0.5, 0.6, 0.7, 0.8, 0.9, 1]\n",
    "param_grid = dict(alpha=alpha, l1_ratio=l1_ratio)\n",
    "grid = GridSearchCV(estimator=elastic_net, param_grid=param_grid, scoring='r2', verbose=1, n_jobs=-1)\n",
    "grid_result = grid.fit(x_train, y_train)\n",
    "print('Best Score: ', grid_result.best_score_)\n",
    "print('Best Params: ', grid_result.best_params_)"
   ]
  },
  {
   "cell_type": "code",
   "execution_count": null,
   "metadata": {},
   "outputs": [],
   "source": []
  },
  {
   "cell_type": "markdown",
   "metadata": {},
   "source": [
    "# Log Reg"
   ]
  },
  {
   "cell_type": "code",
   "execution_count": 210,
   "metadata": {},
   "outputs": [
    {
     "data": {
      "text/html": [
       "<div>\n",
       "<style scoped>\n",
       "    .dataframe tbody tr th:only-of-type {\n",
       "        vertical-align: middle;\n",
       "    }\n",
       "\n",
       "    .dataframe tbody tr th {\n",
       "        vertical-align: top;\n",
       "    }\n",
       "\n",
       "    .dataframe thead th {\n",
       "        text-align: right;\n",
       "    }\n",
       "</style>\n",
       "<table border=\"1\" class=\"dataframe\">\n",
       "  <thead>\n",
       "    <tr style=\"text-align: right;\">\n",
       "      <th></th>\n",
       "      <th>evaporation</th>\n",
       "      <th>inflow</th>\n",
       "      <th>elevation</th>\n",
       "      <th>storage</th>\n",
       "      <th>outflow</th>\n",
       "      <th>inflow_catego</th>\n",
       "      <th>outflow_catego</th>\n",
       "    </tr>\n",
       "  </thead>\n",
       "  <tbody>\n",
       "    <tr>\n",
       "      <th>0</th>\n",
       "      <td>1.230449</td>\n",
       "      <td>3.382737</td>\n",
       "      <td>2.866925</td>\n",
       "      <td>13.829758</td>\n",
       "      <td>3.550840</td>\n",
       "      <td>drought</td>\n",
       "      <td>okay</td>\n",
       "    </tr>\n",
       "    <tr>\n",
       "      <th>1</th>\n",
       "      <td>1.113943</td>\n",
       "      <td>3.318481</td>\n",
       "      <td>2.866701</td>\n",
       "      <td>13.828818</td>\n",
       "      <td>3.585122</td>\n",
       "      <td>drought</td>\n",
       "      <td>okay</td>\n",
       "    </tr>\n",
       "    <tr>\n",
       "      <th>2</th>\n",
       "      <td>1.591065</td>\n",
       "      <td>3.204663</td>\n",
       "      <td>2.866465</td>\n",
       "      <td>13.827829</td>\n",
       "      <td>3.523616</td>\n",
       "      <td>drought</td>\n",
       "      <td>okay</td>\n",
       "    </tr>\n",
       "    <tr>\n",
       "      <th>3</th>\n",
       "      <td>1.361728</td>\n",
       "      <td>3.304706</td>\n",
       "      <td>2.866234</td>\n",
       "      <td>13.826863</td>\n",
       "      <td>3.570776</td>\n",
       "      <td>drought</td>\n",
       "      <td>okay</td>\n",
       "    </tr>\n",
       "    <tr>\n",
       "      <th>4</th>\n",
       "      <td>1.361728</td>\n",
       "      <td>3.281488</td>\n",
       "      <td>2.865986</td>\n",
       "      <td>13.825822</td>\n",
       "      <td>3.568554</td>\n",
       "      <td>drought</td>\n",
       "      <td>okay</td>\n",
       "    </tr>\n",
       "    <tr>\n",
       "      <th>...</th>\n",
       "      <td>...</td>\n",
       "      <td>...</td>\n",
       "      <td>...</td>\n",
       "      <td>...</td>\n",
       "      <td>...</td>\n",
       "      <td>...</td>\n",
       "      <td>...</td>\n",
       "    </tr>\n",
       "    <tr>\n",
       "      <th>1796</th>\n",
       "      <td>1.176091</td>\n",
       "      <td>3.480438</td>\n",
       "      <td>2.820851</td>\n",
       "      <td>13.633561</td>\n",
       "      <td>3.301030</td>\n",
       "      <td>okay</td>\n",
       "      <td>drought</td>\n",
       "    </tr>\n",
       "    <tr>\n",
       "      <th>1797</th>\n",
       "      <td>1.278754</td>\n",
       "      <td>3.546296</td>\n",
       "      <td>2.821160</td>\n",
       "      <td>13.634895</td>\n",
       "      <td>3.301030</td>\n",
       "      <td>okay</td>\n",
       "      <td>drought</td>\n",
       "    </tr>\n",
       "    <tr>\n",
       "      <th>1798</th>\n",
       "      <td>1.342423</td>\n",
       "      <td>3.566437</td>\n",
       "      <td>2.821507</td>\n",
       "      <td>13.636399</td>\n",
       "      <td>3.278754</td>\n",
       "      <td>okay</td>\n",
       "      <td>drought</td>\n",
       "    </tr>\n",
       "    <tr>\n",
       "      <th>1799</th>\n",
       "      <td>1.000000</td>\n",
       "      <td>3.413970</td>\n",
       "      <td>2.821664</td>\n",
       "      <td>13.637079</td>\n",
       "      <td>3.255273</td>\n",
       "      <td>drought</td>\n",
       "      <td>drought</td>\n",
       "    </tr>\n",
       "    <tr>\n",
       "      <th>1800</th>\n",
       "      <td>0.845098</td>\n",
       "      <td>3.344196</td>\n",
       "      <td>2.821730</td>\n",
       "      <td>13.637362</td>\n",
       "      <td>3.273001</td>\n",
       "      <td>drought</td>\n",
       "      <td>drought</td>\n",
       "    </tr>\n",
       "  </tbody>\n",
       "</table>\n",
       "<p>1801 rows × 7 columns</p>\n",
       "</div>"
      ],
      "text/plain": [
       "      evaporation    inflow  elevation    storage   outflow inflow_catego  \\\n",
       "0        1.230449  3.382737   2.866925  13.829758  3.550840       drought   \n",
       "1        1.113943  3.318481   2.866701  13.828818  3.585122       drought   \n",
       "2        1.591065  3.204663   2.866465  13.827829  3.523616       drought   \n",
       "3        1.361728  3.304706   2.866234  13.826863  3.570776       drought   \n",
       "4        1.361728  3.281488   2.865986  13.825822  3.568554       drought   \n",
       "...           ...       ...        ...        ...       ...           ...   \n",
       "1796     1.176091  3.480438   2.820851  13.633561  3.301030          okay   \n",
       "1797     1.278754  3.546296   2.821160  13.634895  3.301030          okay   \n",
       "1798     1.342423  3.566437   2.821507  13.636399  3.278754          okay   \n",
       "1799     1.000000  3.413970   2.821664  13.637079  3.255273       drought   \n",
       "1800     0.845098  3.344196   2.821730  13.637362  3.273001       drought   \n",
       "\n",
       "     outflow_catego  \n",
       "0              okay  \n",
       "1              okay  \n",
       "2              okay  \n",
       "3              okay  \n",
       "4              okay  \n",
       "...             ...  \n",
       "1796        drought  \n",
       "1797        drought  \n",
       "1798        drought  \n",
       "1799        drought  \n",
       "1800        drought  \n",
       "\n",
       "[1801 rows x 7 columns]"
      ]
     },
     "execution_count": 210,
     "metadata": {},
     "output_type": "execute_result"
    }
   ],
   "source": [
    "df"
   ]
  },
  {
   "cell_type": "code",
   "execution_count": 209,
   "metadata": {},
   "outputs": [],
   "source": [
    "x_train, x_test, y_train, y_test = train_test_split(x, y, test_size = 0.2, random_state = 42)"
   ]
  },
  {
   "cell_type": "code",
   "execution_count": 211,
   "metadata": {},
   "outputs": [],
   "source": [
    "from sklearn.linear_model import LogisticRegression\n",
    "from sklearn.metrics import precision_score, recall_score\n",
    "from sklearn.model_selection import train_test_split\n",
    "\n",
    "\n",
    "y = df['outflow_catego']\n",
    "x = df.drop(['outflow_catego'],1)\n",
    "x_train,x_test,y_train,y_test = train_test_split(x,y,test_size=0.3)\n",
    "classifier = LogisticRegression()\n",
    "\n",
    "def make_model(feature):\n",
    "    classifier.fit(np.array(x_train[feature]).reshape(-1,1),y_train)\n",
    "    mpg_pred = classifier.predict(np.array(x_test[feature]).reshape(-1,1))\n",
    "    print(feature,\"Precision:\",precision_score(y_test,mpg_pred,average='macro',zero_division=0))\n",
    "    print(feature,\"Recall:\",recall_score(y_test,mpg_pred,average='macro',zero_division=0))"
   ]
  },
  {
   "cell_type": "markdown",
   "metadata": {},
   "source": [
    "## Testing out a ton of other models"
   ]
  },
  {
   "cell_type": "code",
   "execution_count": 212,
   "metadata": {},
   "outputs": [],
   "source": [
    "import matplotlib.pyplot as plt\n",
    "import numpy as np\n",
    "import math\n",
    "import pandas as pd\n",
    "from sklearn.model_selection import train_test_split\n",
    "from sklearn.metrics import precision_score, recall_score\n",
    "from sklearn.preprocessing import MinMaxScaler\n",
    "from sklearn.linear_model import LogisticRegression\n",
    "from sklearn.linear_model import LinearRegression\n",
    "from sklearn.linear_model import LogisticRegressionCV\n",
    "from sklearn.model_selection import cross_val_score\n",
    "from sklearn.svm import SVC\n",
    "from sklearn.ensemble import RandomForestClassifier\n",
    "from sklearn.metrics import confusion_matrix\n",
    "import random\n",
    "from sklearn import tree\n",
    "\n",
    "\n",
    "from sklearn import linear_model\n",
    "logr = linear_model.LogisticRegression(n_jobs =-1,solver = 'lbfgs', max_iter=500)"
   ]
  },
  {
   "cell_type": "code",
   "execution_count": 214,
   "metadata": {},
   "outputs": [
    {
     "data": {
      "text/html": [
       "<div>\n",
       "<style scoped>\n",
       "    .dataframe tbody tr th:only-of-type {\n",
       "        vertical-align: middle;\n",
       "    }\n",
       "\n",
       "    .dataframe tbody tr th {\n",
       "        vertical-align: top;\n",
       "    }\n",
       "\n",
       "    .dataframe thead th {\n",
       "        text-align: right;\n",
       "    }\n",
       "</style>\n",
       "<table border=\"1\" class=\"dataframe\">\n",
       "  <thead>\n",
       "    <tr style=\"text-align: right;\">\n",
       "      <th></th>\n",
       "      <th>evaporation</th>\n",
       "      <th>inflow</th>\n",
       "      <th>elevation</th>\n",
       "      <th>storage</th>\n",
       "      <th>outflow</th>\n",
       "      <th>inflow_catego</th>\n",
       "      <th>outflow_catego</th>\n",
       "    </tr>\n",
       "  </thead>\n",
       "  <tbody>\n",
       "    <tr>\n",
       "      <th>0</th>\n",
       "      <td>1.230449</td>\n",
       "      <td>3.382737</td>\n",
       "      <td>2.866925</td>\n",
       "      <td>13.829758</td>\n",
       "      <td>3.550840</td>\n",
       "      <td>drought</td>\n",
       "      <td>okay</td>\n",
       "    </tr>\n",
       "    <tr>\n",
       "      <th>1</th>\n",
       "      <td>1.113943</td>\n",
       "      <td>3.318481</td>\n",
       "      <td>2.866701</td>\n",
       "      <td>13.828818</td>\n",
       "      <td>3.585122</td>\n",
       "      <td>drought</td>\n",
       "      <td>okay</td>\n",
       "    </tr>\n",
       "    <tr>\n",
       "      <th>2</th>\n",
       "      <td>1.591065</td>\n",
       "      <td>3.204663</td>\n",
       "      <td>2.866465</td>\n",
       "      <td>13.827829</td>\n",
       "      <td>3.523616</td>\n",
       "      <td>drought</td>\n",
       "      <td>okay</td>\n",
       "    </tr>\n",
       "    <tr>\n",
       "      <th>3</th>\n",
       "      <td>1.361728</td>\n",
       "      <td>3.304706</td>\n",
       "      <td>2.866234</td>\n",
       "      <td>13.826863</td>\n",
       "      <td>3.570776</td>\n",
       "      <td>drought</td>\n",
       "      <td>okay</td>\n",
       "    </tr>\n",
       "    <tr>\n",
       "      <th>4</th>\n",
       "      <td>1.361728</td>\n",
       "      <td>3.281488</td>\n",
       "      <td>2.865986</td>\n",
       "      <td>13.825822</td>\n",
       "      <td>3.568554</td>\n",
       "      <td>drought</td>\n",
       "      <td>okay</td>\n",
       "    </tr>\n",
       "    <tr>\n",
       "      <th>...</th>\n",
       "      <td>...</td>\n",
       "      <td>...</td>\n",
       "      <td>...</td>\n",
       "      <td>...</td>\n",
       "      <td>...</td>\n",
       "      <td>...</td>\n",
       "      <td>...</td>\n",
       "    </tr>\n",
       "    <tr>\n",
       "      <th>1796</th>\n",
       "      <td>1.176091</td>\n",
       "      <td>3.480438</td>\n",
       "      <td>2.820851</td>\n",
       "      <td>13.633561</td>\n",
       "      <td>3.301030</td>\n",
       "      <td>okay</td>\n",
       "      <td>drought</td>\n",
       "    </tr>\n",
       "    <tr>\n",
       "      <th>1797</th>\n",
       "      <td>1.278754</td>\n",
       "      <td>3.546296</td>\n",
       "      <td>2.821160</td>\n",
       "      <td>13.634895</td>\n",
       "      <td>3.301030</td>\n",
       "      <td>okay</td>\n",
       "      <td>drought</td>\n",
       "    </tr>\n",
       "    <tr>\n",
       "      <th>1798</th>\n",
       "      <td>1.342423</td>\n",
       "      <td>3.566437</td>\n",
       "      <td>2.821507</td>\n",
       "      <td>13.636399</td>\n",
       "      <td>3.278754</td>\n",
       "      <td>okay</td>\n",
       "      <td>drought</td>\n",
       "    </tr>\n",
       "    <tr>\n",
       "      <th>1799</th>\n",
       "      <td>1.000000</td>\n",
       "      <td>3.413970</td>\n",
       "      <td>2.821664</td>\n",
       "      <td>13.637079</td>\n",
       "      <td>3.255273</td>\n",
       "      <td>drought</td>\n",
       "      <td>drought</td>\n",
       "    </tr>\n",
       "    <tr>\n",
       "      <th>1800</th>\n",
       "      <td>0.845098</td>\n",
       "      <td>3.344196</td>\n",
       "      <td>2.821730</td>\n",
       "      <td>13.637362</td>\n",
       "      <td>3.273001</td>\n",
       "      <td>drought</td>\n",
       "      <td>drought</td>\n",
       "    </tr>\n",
       "  </tbody>\n",
       "</table>\n",
       "<p>1801 rows × 7 columns</p>\n",
       "</div>"
      ],
      "text/plain": [
       "      evaporation    inflow  elevation    storage   outflow inflow_catego  \\\n",
       "0        1.230449  3.382737   2.866925  13.829758  3.550840       drought   \n",
       "1        1.113943  3.318481   2.866701  13.828818  3.585122       drought   \n",
       "2        1.591065  3.204663   2.866465  13.827829  3.523616       drought   \n",
       "3        1.361728  3.304706   2.866234  13.826863  3.570776       drought   \n",
       "4        1.361728  3.281488   2.865986  13.825822  3.568554       drought   \n",
       "...           ...       ...        ...        ...       ...           ...   \n",
       "1796     1.176091  3.480438   2.820851  13.633561  3.301030          okay   \n",
       "1797     1.278754  3.546296   2.821160  13.634895  3.301030          okay   \n",
       "1798     1.342423  3.566437   2.821507  13.636399  3.278754          okay   \n",
       "1799     1.000000  3.413970   2.821664  13.637079  3.255273       drought   \n",
       "1800     0.845098  3.344196   2.821730  13.637362  3.273001       drought   \n",
       "\n",
       "     outflow_catego  \n",
       "0              okay  \n",
       "1              okay  \n",
       "2              okay  \n",
       "3              okay  \n",
       "4              okay  \n",
       "...             ...  \n",
       "1796        drought  \n",
       "1797        drought  \n",
       "1798        drought  \n",
       "1799        drought  \n",
       "1800        drought  \n",
       "\n",
       "[1801 rows x 7 columns]"
      ]
     },
     "execution_count": 214,
     "metadata": {},
     "output_type": "execute_result"
    }
   ],
   "source": [
    "df"
   ]
  },
  {
   "cell_type": "code",
   "execution_count": null,
   "metadata": {},
   "outputs": [],
   "source": []
  },
  {
   "cell_type": "code",
   "execution_count": 213,
   "metadata": {},
   "outputs": [
    {
     "ename": "ValueError",
     "evalue": "could not convert string to float: 'drought'",
     "output_type": "error",
     "traceback": [
      "\u001b[1;31m---------------------------------------------------------------------------\u001b[0m",
      "\u001b[1;31mValueError\u001b[0m                                Traceback (most recent call last)",
      "\u001b[1;32m<ipython-input-213-6d02b16a390e>\u001b[0m in \u001b[0;36m<module>\u001b[1;34m\u001b[0m\n\u001b[0;32m      3\u001b[0m \u001b[0mrandom\u001b[0m\u001b[1;33m.\u001b[0m\u001b[0mseed\u001b[0m\u001b[1;33m(\u001b[0m\u001b[1;36m10\u001b[0m\u001b[1;33m)\u001b[0m\u001b[1;33m\u001b[0m\u001b[1;33m\u001b[0m\u001b[0m\n\u001b[0;32m      4\u001b[0m \u001b[0msvm\u001b[0m \u001b[1;33m=\u001b[0m \u001b[0mSVC\u001b[0m\u001b[1;33m(\u001b[0m\u001b[0mgamma\u001b[0m\u001b[1;33m=\u001b[0m\u001b[1;34m'auto'\u001b[0m\u001b[1;33m)\u001b[0m\u001b[1;33m\u001b[0m\u001b[1;33m\u001b[0m\u001b[0m\n\u001b[1;32m----> 5\u001b[1;33m \u001b[0msvm\u001b[0m\u001b[1;33m.\u001b[0m\u001b[0mfit\u001b[0m\u001b[1;33m(\u001b[0m\u001b[0mx_train\u001b[0m\u001b[1;33m,\u001b[0m \u001b[0my_train\u001b[0m\u001b[1;33m)\u001b[0m\u001b[1;33m\u001b[0m\u001b[1;33m\u001b[0m\u001b[0m\n\u001b[0m\u001b[0;32m      6\u001b[0m \u001b[1;33m\u001b[0m\u001b[0m\n\u001b[0;32m      7\u001b[0m \u001b[0my_pred\u001b[0m \u001b[1;33m=\u001b[0m \u001b[0msvm\u001b[0m\u001b[1;33m.\u001b[0m\u001b[0mpredict\u001b[0m\u001b[1;33m(\u001b[0m\u001b[0mx_test\u001b[0m\u001b[1;33m)\u001b[0m\u001b[1;33m\u001b[0m\u001b[1;33m\u001b[0m\u001b[0m\n",
      "\u001b[1;32m~\\anaconda3\\lib\\site-packages\\sklearn\\svm\\_base.py\u001b[0m in \u001b[0;36mfit\u001b[1;34m(self, X, y, sample_weight)\u001b[0m\n\u001b[0;32m    158\u001b[0m             \u001b[0mcheck_consistent_length\u001b[0m\u001b[1;33m(\u001b[0m\u001b[0mX\u001b[0m\u001b[1;33m,\u001b[0m \u001b[0my\u001b[0m\u001b[1;33m)\u001b[0m\u001b[1;33m\u001b[0m\u001b[1;33m\u001b[0m\u001b[0m\n\u001b[0;32m    159\u001b[0m         \u001b[1;32melse\u001b[0m\u001b[1;33m:\u001b[0m\u001b[1;33m\u001b[0m\u001b[1;33m\u001b[0m\u001b[0m\n\u001b[1;32m--> 160\u001b[1;33m             X, y = self._validate_data(X, y, dtype=np.float64,\n\u001b[0m\u001b[0;32m    161\u001b[0m                                        \u001b[0morder\u001b[0m\u001b[1;33m=\u001b[0m\u001b[1;34m'C'\u001b[0m\u001b[1;33m,\u001b[0m \u001b[0maccept_sparse\u001b[0m\u001b[1;33m=\u001b[0m\u001b[1;34m'csr'\u001b[0m\u001b[1;33m,\u001b[0m\u001b[1;33m\u001b[0m\u001b[1;33m\u001b[0m\u001b[0m\n\u001b[0;32m    162\u001b[0m                                        accept_large_sparse=False)\n",
      "\u001b[1;32m~\\anaconda3\\lib\\site-packages\\sklearn\\base.py\u001b[0m in \u001b[0;36m_validate_data\u001b[1;34m(self, X, y, reset, validate_separately, **check_params)\u001b[0m\n\u001b[0;32m    430\u001b[0m                 \u001b[0my\u001b[0m \u001b[1;33m=\u001b[0m \u001b[0mcheck_array\u001b[0m\u001b[1;33m(\u001b[0m\u001b[0my\u001b[0m\u001b[1;33m,\u001b[0m \u001b[1;33m**\u001b[0m\u001b[0mcheck_y_params\u001b[0m\u001b[1;33m)\u001b[0m\u001b[1;33m\u001b[0m\u001b[1;33m\u001b[0m\u001b[0m\n\u001b[0;32m    431\u001b[0m             \u001b[1;32melse\u001b[0m\u001b[1;33m:\u001b[0m\u001b[1;33m\u001b[0m\u001b[1;33m\u001b[0m\u001b[0m\n\u001b[1;32m--> 432\u001b[1;33m                 \u001b[0mX\u001b[0m\u001b[1;33m,\u001b[0m \u001b[0my\u001b[0m \u001b[1;33m=\u001b[0m \u001b[0mcheck_X_y\u001b[0m\u001b[1;33m(\u001b[0m\u001b[0mX\u001b[0m\u001b[1;33m,\u001b[0m \u001b[0my\u001b[0m\u001b[1;33m,\u001b[0m \u001b[1;33m**\u001b[0m\u001b[0mcheck_params\u001b[0m\u001b[1;33m)\u001b[0m\u001b[1;33m\u001b[0m\u001b[1;33m\u001b[0m\u001b[0m\n\u001b[0m\u001b[0;32m    433\u001b[0m             \u001b[0mout\u001b[0m \u001b[1;33m=\u001b[0m \u001b[0mX\u001b[0m\u001b[1;33m,\u001b[0m \u001b[0my\u001b[0m\u001b[1;33m\u001b[0m\u001b[1;33m\u001b[0m\u001b[0m\n\u001b[0;32m    434\u001b[0m \u001b[1;33m\u001b[0m\u001b[0m\n",
      "\u001b[1;32m~\\anaconda3\\lib\\site-packages\\sklearn\\utils\\validation.py\u001b[0m in \u001b[0;36minner_f\u001b[1;34m(*args, **kwargs)\u001b[0m\n\u001b[0;32m     70\u001b[0m                           FutureWarning)\n\u001b[0;32m     71\u001b[0m         \u001b[0mkwargs\u001b[0m\u001b[1;33m.\u001b[0m\u001b[0mupdate\u001b[0m\u001b[1;33m(\u001b[0m\u001b[1;33m{\u001b[0m\u001b[0mk\u001b[0m\u001b[1;33m:\u001b[0m \u001b[0marg\u001b[0m \u001b[1;32mfor\u001b[0m \u001b[0mk\u001b[0m\u001b[1;33m,\u001b[0m \u001b[0marg\u001b[0m \u001b[1;32min\u001b[0m \u001b[0mzip\u001b[0m\u001b[1;33m(\u001b[0m\u001b[0msig\u001b[0m\u001b[1;33m.\u001b[0m\u001b[0mparameters\u001b[0m\u001b[1;33m,\u001b[0m \u001b[0margs\u001b[0m\u001b[1;33m)\u001b[0m\u001b[1;33m}\u001b[0m\u001b[1;33m)\u001b[0m\u001b[1;33m\u001b[0m\u001b[1;33m\u001b[0m\u001b[0m\n\u001b[1;32m---> 72\u001b[1;33m         \u001b[1;32mreturn\u001b[0m \u001b[0mf\u001b[0m\u001b[1;33m(\u001b[0m\u001b[1;33m**\u001b[0m\u001b[0mkwargs\u001b[0m\u001b[1;33m)\u001b[0m\u001b[1;33m\u001b[0m\u001b[1;33m\u001b[0m\u001b[0m\n\u001b[0m\u001b[0;32m     73\u001b[0m     \u001b[1;32mreturn\u001b[0m \u001b[0minner_f\u001b[0m\u001b[1;33m\u001b[0m\u001b[1;33m\u001b[0m\u001b[0m\n\u001b[0;32m     74\u001b[0m \u001b[1;33m\u001b[0m\u001b[0m\n",
      "\u001b[1;32m~\\anaconda3\\lib\\site-packages\\sklearn\\utils\\validation.py\u001b[0m in \u001b[0;36mcheck_X_y\u001b[1;34m(X, y, accept_sparse, accept_large_sparse, dtype, order, copy, force_all_finite, ensure_2d, allow_nd, multi_output, ensure_min_samples, ensure_min_features, y_numeric, estimator)\u001b[0m\n\u001b[0;32m    793\u001b[0m         \u001b[1;32mraise\u001b[0m \u001b[0mValueError\u001b[0m\u001b[1;33m(\u001b[0m\u001b[1;34m\"y cannot be None\"\u001b[0m\u001b[1;33m)\u001b[0m\u001b[1;33m\u001b[0m\u001b[1;33m\u001b[0m\u001b[0m\n\u001b[0;32m    794\u001b[0m \u001b[1;33m\u001b[0m\u001b[0m\n\u001b[1;32m--> 795\u001b[1;33m     X = check_array(X, accept_sparse=accept_sparse,\n\u001b[0m\u001b[0;32m    796\u001b[0m                     \u001b[0maccept_large_sparse\u001b[0m\u001b[1;33m=\u001b[0m\u001b[0maccept_large_sparse\u001b[0m\u001b[1;33m,\u001b[0m\u001b[1;33m\u001b[0m\u001b[1;33m\u001b[0m\u001b[0m\n\u001b[0;32m    797\u001b[0m                     \u001b[0mdtype\u001b[0m\u001b[1;33m=\u001b[0m\u001b[0mdtype\u001b[0m\u001b[1;33m,\u001b[0m \u001b[0morder\u001b[0m\u001b[1;33m=\u001b[0m\u001b[0morder\u001b[0m\u001b[1;33m,\u001b[0m \u001b[0mcopy\u001b[0m\u001b[1;33m=\u001b[0m\u001b[0mcopy\u001b[0m\u001b[1;33m,\u001b[0m\u001b[1;33m\u001b[0m\u001b[1;33m\u001b[0m\u001b[0m\n",
      "\u001b[1;32m~\\anaconda3\\lib\\site-packages\\sklearn\\utils\\validation.py\u001b[0m in \u001b[0;36minner_f\u001b[1;34m(*args, **kwargs)\u001b[0m\n\u001b[0;32m     70\u001b[0m                           FutureWarning)\n\u001b[0;32m     71\u001b[0m         \u001b[0mkwargs\u001b[0m\u001b[1;33m.\u001b[0m\u001b[0mupdate\u001b[0m\u001b[1;33m(\u001b[0m\u001b[1;33m{\u001b[0m\u001b[0mk\u001b[0m\u001b[1;33m:\u001b[0m \u001b[0marg\u001b[0m \u001b[1;32mfor\u001b[0m \u001b[0mk\u001b[0m\u001b[1;33m,\u001b[0m \u001b[0marg\u001b[0m \u001b[1;32min\u001b[0m \u001b[0mzip\u001b[0m\u001b[1;33m(\u001b[0m\u001b[0msig\u001b[0m\u001b[1;33m.\u001b[0m\u001b[0mparameters\u001b[0m\u001b[1;33m,\u001b[0m \u001b[0margs\u001b[0m\u001b[1;33m)\u001b[0m\u001b[1;33m}\u001b[0m\u001b[1;33m)\u001b[0m\u001b[1;33m\u001b[0m\u001b[1;33m\u001b[0m\u001b[0m\n\u001b[1;32m---> 72\u001b[1;33m         \u001b[1;32mreturn\u001b[0m \u001b[0mf\u001b[0m\u001b[1;33m(\u001b[0m\u001b[1;33m**\u001b[0m\u001b[0mkwargs\u001b[0m\u001b[1;33m)\u001b[0m\u001b[1;33m\u001b[0m\u001b[1;33m\u001b[0m\u001b[0m\n\u001b[0m\u001b[0;32m     73\u001b[0m     \u001b[1;32mreturn\u001b[0m \u001b[0minner_f\u001b[0m\u001b[1;33m\u001b[0m\u001b[1;33m\u001b[0m\u001b[0m\n\u001b[0;32m     74\u001b[0m \u001b[1;33m\u001b[0m\u001b[0m\n",
      "\u001b[1;32m~\\anaconda3\\lib\\site-packages\\sklearn\\utils\\validation.py\u001b[0m in \u001b[0;36mcheck_array\u001b[1;34m(array, accept_sparse, accept_large_sparse, dtype, order, copy, force_all_finite, ensure_2d, allow_nd, ensure_min_samples, ensure_min_features, estimator)\u001b[0m\n\u001b[0;32m    596\u001b[0m                     \u001b[0marray\u001b[0m \u001b[1;33m=\u001b[0m \u001b[0marray\u001b[0m\u001b[1;33m.\u001b[0m\u001b[0mastype\u001b[0m\u001b[1;33m(\u001b[0m\u001b[0mdtype\u001b[0m\u001b[1;33m,\u001b[0m \u001b[0mcasting\u001b[0m\u001b[1;33m=\u001b[0m\u001b[1;34m\"unsafe\"\u001b[0m\u001b[1;33m,\u001b[0m \u001b[0mcopy\u001b[0m\u001b[1;33m=\u001b[0m\u001b[1;32mFalse\u001b[0m\u001b[1;33m)\u001b[0m\u001b[1;33m\u001b[0m\u001b[1;33m\u001b[0m\u001b[0m\n\u001b[0;32m    597\u001b[0m                 \u001b[1;32melse\u001b[0m\u001b[1;33m:\u001b[0m\u001b[1;33m\u001b[0m\u001b[1;33m\u001b[0m\u001b[0m\n\u001b[1;32m--> 598\u001b[1;33m                     \u001b[0marray\u001b[0m \u001b[1;33m=\u001b[0m \u001b[0mnp\u001b[0m\u001b[1;33m.\u001b[0m\u001b[0masarray\u001b[0m\u001b[1;33m(\u001b[0m\u001b[0marray\u001b[0m\u001b[1;33m,\u001b[0m \u001b[0morder\u001b[0m\u001b[1;33m=\u001b[0m\u001b[0morder\u001b[0m\u001b[1;33m,\u001b[0m \u001b[0mdtype\u001b[0m\u001b[1;33m=\u001b[0m\u001b[0mdtype\u001b[0m\u001b[1;33m)\u001b[0m\u001b[1;33m\u001b[0m\u001b[1;33m\u001b[0m\u001b[0m\n\u001b[0m\u001b[0;32m    599\u001b[0m             \u001b[1;32mexcept\u001b[0m \u001b[0mComplexWarning\u001b[0m\u001b[1;33m:\u001b[0m\u001b[1;33m\u001b[0m\u001b[1;33m\u001b[0m\u001b[0m\n\u001b[0;32m    600\u001b[0m                 raise ValueError(\"Complex data not supported\\n\"\n",
      "\u001b[1;32m~\\anaconda3\\lib\\site-packages\\numpy\\core\\_asarray.py\u001b[0m in \u001b[0;36masarray\u001b[1;34m(a, dtype, order)\u001b[0m\n\u001b[0;32m     81\u001b[0m \u001b[1;33m\u001b[0m\u001b[0m\n\u001b[0;32m     82\u001b[0m     \"\"\"\n\u001b[1;32m---> 83\u001b[1;33m     \u001b[1;32mreturn\u001b[0m \u001b[0marray\u001b[0m\u001b[1;33m(\u001b[0m\u001b[0ma\u001b[0m\u001b[1;33m,\u001b[0m \u001b[0mdtype\u001b[0m\u001b[1;33m,\u001b[0m \u001b[0mcopy\u001b[0m\u001b[1;33m=\u001b[0m\u001b[1;32mFalse\u001b[0m\u001b[1;33m,\u001b[0m \u001b[0morder\u001b[0m\u001b[1;33m=\u001b[0m\u001b[0morder\u001b[0m\u001b[1;33m)\u001b[0m\u001b[1;33m\u001b[0m\u001b[1;33m\u001b[0m\u001b[0m\n\u001b[0m\u001b[0;32m     84\u001b[0m \u001b[1;33m\u001b[0m\u001b[0m\n\u001b[0;32m     85\u001b[0m \u001b[1;33m\u001b[0m\u001b[0m\n",
      "\u001b[1;32m~\\anaconda3\\lib\\site-packages\\pandas\\core\\generic.py\u001b[0m in \u001b[0;36m__array__\u001b[1;34m(self, dtype)\u001b[0m\n\u001b[0;32m   1779\u001b[0m \u001b[1;33m\u001b[0m\u001b[0m\n\u001b[0;32m   1780\u001b[0m     \u001b[1;32mdef\u001b[0m \u001b[0m__array__\u001b[0m\u001b[1;33m(\u001b[0m\u001b[0mself\u001b[0m\u001b[1;33m,\u001b[0m \u001b[0mdtype\u001b[0m\u001b[1;33m=\u001b[0m\u001b[1;32mNone\u001b[0m\u001b[1;33m)\u001b[0m \u001b[1;33m->\u001b[0m \u001b[0mnp\u001b[0m\u001b[1;33m.\u001b[0m\u001b[0mndarray\u001b[0m\u001b[1;33m:\u001b[0m\u001b[1;33m\u001b[0m\u001b[1;33m\u001b[0m\u001b[0m\n\u001b[1;32m-> 1781\u001b[1;33m         \u001b[1;32mreturn\u001b[0m \u001b[0mnp\u001b[0m\u001b[1;33m.\u001b[0m\u001b[0masarray\u001b[0m\u001b[1;33m(\u001b[0m\u001b[0mself\u001b[0m\u001b[1;33m.\u001b[0m\u001b[0m_values\u001b[0m\u001b[1;33m,\u001b[0m \u001b[0mdtype\u001b[0m\u001b[1;33m=\u001b[0m\u001b[0mdtype\u001b[0m\u001b[1;33m)\u001b[0m\u001b[1;33m\u001b[0m\u001b[1;33m\u001b[0m\u001b[0m\n\u001b[0m\u001b[0;32m   1782\u001b[0m \u001b[1;33m\u001b[0m\u001b[0m\n\u001b[0;32m   1783\u001b[0m     \u001b[1;32mdef\u001b[0m \u001b[0m__array_wrap__\u001b[0m\u001b[1;33m(\u001b[0m\u001b[0mself\u001b[0m\u001b[1;33m,\u001b[0m \u001b[0mresult\u001b[0m\u001b[1;33m,\u001b[0m \u001b[0mcontext\u001b[0m\u001b[1;33m=\u001b[0m\u001b[1;32mNone\u001b[0m\u001b[1;33m)\u001b[0m\u001b[1;33m:\u001b[0m\u001b[1;33m\u001b[0m\u001b[1;33m\u001b[0m\u001b[0m\n",
      "\u001b[1;32m~\\anaconda3\\lib\\site-packages\\numpy\\core\\_asarray.py\u001b[0m in \u001b[0;36masarray\u001b[1;34m(a, dtype, order)\u001b[0m\n\u001b[0;32m     81\u001b[0m \u001b[1;33m\u001b[0m\u001b[0m\n\u001b[0;32m     82\u001b[0m     \"\"\"\n\u001b[1;32m---> 83\u001b[1;33m     \u001b[1;32mreturn\u001b[0m \u001b[0marray\u001b[0m\u001b[1;33m(\u001b[0m\u001b[0ma\u001b[0m\u001b[1;33m,\u001b[0m \u001b[0mdtype\u001b[0m\u001b[1;33m,\u001b[0m \u001b[0mcopy\u001b[0m\u001b[1;33m=\u001b[0m\u001b[1;32mFalse\u001b[0m\u001b[1;33m,\u001b[0m \u001b[0morder\u001b[0m\u001b[1;33m=\u001b[0m\u001b[0morder\u001b[0m\u001b[1;33m)\u001b[0m\u001b[1;33m\u001b[0m\u001b[1;33m\u001b[0m\u001b[0m\n\u001b[0m\u001b[0;32m     84\u001b[0m \u001b[1;33m\u001b[0m\u001b[0m\n\u001b[0;32m     85\u001b[0m \u001b[1;33m\u001b[0m\u001b[0m\n",
      "\u001b[1;31mValueError\u001b[0m: could not convert string to float: 'drought'"
     ]
    }
   ],
   "source": [
    "import random\n",
    "\n",
    "random.seed(10)\n",
    "svm = SVC(gamma='auto')\n",
    "svm.fit(x_train, y_train)\n",
    "\n",
    "y_pred = svm.predict(x_test)\n",
    "y_true = y_test.values.tolist()\n",
    "\n",
    "rec_svm = recall_score(y_true, y_pred, average='macro')\n",
    "\n",
    "\n",
    "prec_svm = precision_score(y_true, y_pred, average='macro', zero_division = 0)\n",
    "print (\"The recall score of this model is: \", rec_svm)\n",
    "print (\"The precision score of this model is: \", prec_svm)\n",
    "print (\"The cross val score of this model is: \", cross_val_score(svm, X, y, cv = 10, scoring = 'accuracy').mean())\n"
   ]
  },
  {
   "cell_type": "code",
   "execution_count": 33,
   "metadata": {},
   "outputs": [
    {
     "data": {
      "text/html": [
       "<div>\n",
       "<style scoped>\n",
       "    .dataframe tbody tr th:only-of-type {\n",
       "        vertical-align: middle;\n",
       "    }\n",
       "\n",
       "    .dataframe tbody tr th {\n",
       "        vertical-align: top;\n",
       "    }\n",
       "\n",
       "    .dataframe thead th {\n",
       "        text-align: right;\n",
       "    }\n",
       "</style>\n",
       "<table border=\"1\" class=\"dataframe\">\n",
       "  <thead>\n",
       "    <tr style=\"text-align: right;\">\n",
       "      <th></th>\n",
       "      <th>evap_cfs</th>\n",
       "      <th>inflow_cfs</th>\n",
       "      <th>elevation_feet</th>\n",
       "      <th>ppt_inches</th>\n",
       "      <th>storage_taf</th>\n",
       "      <th>outflow_cfs</th>\n",
       "      <th>outflow_catego</th>\n",
       "    </tr>\n",
       "  </thead>\n",
       "  <tbody>\n",
       "    <tr>\n",
       "      <th>0</th>\n",
       "      <td>17.0</td>\n",
       "      <td>2414.0</td>\n",
       "      <td>736.08</td>\n",
       "      <td>0.00</td>\n",
       "      <td>1551207.0</td>\n",
       "      <td>3555.0</td>\n",
       "      <td>light</td>\n",
       "    </tr>\n",
       "    <tr>\n",
       "      <th>1</th>\n",
       "      <td>13.0</td>\n",
       "      <td>2082.0</td>\n",
       "      <td>735.70</td>\n",
       "      <td>0.00</td>\n",
       "      <td>1547855.0</td>\n",
       "      <td>3847.0</td>\n",
       "      <td>light</td>\n",
       "    </tr>\n",
       "    <tr>\n",
       "      <th>2</th>\n",
       "      <td>39.0</td>\n",
       "      <td>1602.0</td>\n",
       "      <td>735.30</td>\n",
       "      <td>0.00</td>\n",
       "      <td>1544332.0</td>\n",
       "      <td>3339.0</td>\n",
       "      <td>light</td>\n",
       "    </tr>\n",
       "    <tr>\n",
       "      <th>3</th>\n",
       "      <td>23.0</td>\n",
       "      <td>2017.0</td>\n",
       "      <td>734.91</td>\n",
       "      <td>0.00</td>\n",
       "      <td>1540902.0</td>\n",
       "      <td>3722.0</td>\n",
       "      <td>light</td>\n",
       "    </tr>\n",
       "    <tr>\n",
       "      <th>4</th>\n",
       "      <td>23.0</td>\n",
       "      <td>1912.0</td>\n",
       "      <td>734.49</td>\n",
       "      <td>0.00</td>\n",
       "      <td>1537215.0</td>\n",
       "      <td>3703.0</td>\n",
       "      <td>light</td>\n",
       "    </tr>\n",
       "    <tr>\n",
       "      <th>...</th>\n",
       "      <td>...</td>\n",
       "      <td>...</td>\n",
       "      <td>...</td>\n",
       "      <td>...</td>\n",
       "      <td>...</td>\n",
       "      <td>...</td>\n",
       "      <td>...</td>\n",
       "    </tr>\n",
       "    <tr>\n",
       "      <th>1798</th>\n",
       "      <td>15.0</td>\n",
       "      <td>3023.0</td>\n",
       "      <td>661.99</td>\n",
       "      <td>0.05</td>\n",
       "      <td>987355.0</td>\n",
       "      <td>2000.0</td>\n",
       "      <td>light</td>\n",
       "    </tr>\n",
       "    <tr>\n",
       "      <th>1799</th>\n",
       "      <td>19.0</td>\n",
       "      <td>3518.0</td>\n",
       "      <td>662.46</td>\n",
       "      <td>1.13</td>\n",
       "      <td>990393.0</td>\n",
       "      <td>2000.0</td>\n",
       "      <td>light</td>\n",
       "    </tr>\n",
       "    <tr>\n",
       "      <th>1800</th>\n",
       "      <td>22.0</td>\n",
       "      <td>3685.0</td>\n",
       "      <td>662.99</td>\n",
       "      <td>0.00</td>\n",
       "      <td>993827.0</td>\n",
       "      <td>1900.0</td>\n",
       "      <td>light</td>\n",
       "    </tr>\n",
       "    <tr>\n",
       "      <th>1801</th>\n",
       "      <td>10.0</td>\n",
       "      <td>2594.0</td>\n",
       "      <td>663.23</td>\n",
       "      <td>0.07</td>\n",
       "      <td>995384.0</td>\n",
       "      <td>1800.0</td>\n",
       "      <td>light</td>\n",
       "    </tr>\n",
       "    <tr>\n",
       "      <th>1802</th>\n",
       "      <td>7.0</td>\n",
       "      <td>2209.0</td>\n",
       "      <td>663.33</td>\n",
       "      <td>0.00</td>\n",
       "      <td>996034.0</td>\n",
       "      <td>1875.0</td>\n",
       "      <td>light</td>\n",
       "    </tr>\n",
       "  </tbody>\n",
       "</table>\n",
       "<p>1803 rows × 7 columns</p>\n",
       "</div>"
      ],
      "text/plain": [
       "      evap_cfs  inflow_cfs  elevation_feet  ppt_inches  storage_taf  \\\n",
       "0         17.0      2414.0          736.08        0.00    1551207.0   \n",
       "1         13.0      2082.0          735.70        0.00    1547855.0   \n",
       "2         39.0      1602.0          735.30        0.00    1544332.0   \n",
       "3         23.0      2017.0          734.91        0.00    1540902.0   \n",
       "4         23.0      1912.0          734.49        0.00    1537215.0   \n",
       "...        ...         ...             ...         ...          ...   \n",
       "1798      15.0      3023.0          661.99        0.05     987355.0   \n",
       "1799      19.0      3518.0          662.46        1.13     990393.0   \n",
       "1800      22.0      3685.0          662.99        0.00     993827.0   \n",
       "1801      10.0      2594.0          663.23        0.07     995384.0   \n",
       "1802       7.0      2209.0          663.33        0.00     996034.0   \n",
       "\n",
       "      outflow_cfs outflow_catego  \n",
       "0          3555.0          light  \n",
       "1          3847.0          light  \n",
       "2          3339.0          light  \n",
       "3          3722.0          light  \n",
       "4          3703.0          light  \n",
       "...           ...            ...  \n",
       "1798       2000.0          light  \n",
       "1799       2000.0          light  \n",
       "1800       1900.0          light  \n",
       "1801       1800.0          light  \n",
       "1802       1875.0          light  \n",
       "\n",
       "[1803 rows x 7 columns]"
      ]
     },
     "execution_count": 33,
     "metadata": {},
     "output_type": "execute_result"
    }
   ],
   "source": [
    "logr = LogisticRegression(solver='liblinear',multi_class='ovr')\n",
    "logr.fit(X_train, y_train)\n",
    "\n",
    "y_pred = logr.predict(X_test)\n",
    "y_true = y_test.values.tolist()\n",
    "\n",
    "rec_svm = recall_score(y_true, y_pred, average='macro')\n",
    "\n",
    "prec_svm = precision_score(y_true, y_pred, average='macro', zero_division = 0)\n",
    "\n",
    "print (\"The recall score of this model is: \", rec_svm)\n",
    "print (\"The precision score of this model is: \", prec_svm)\n",
    "print (\"The cross val score of this model is: \", cross_val_score(logr, X, y, cv = 10, scoring = 'accuracy').mean())"
   ]
  },
  {
   "cell_type": "code",
   "execution_count": 32,
   "metadata": {},
   "outputs": [
    {
     "name": "stdout",
     "output_type": "stream",
     "text": [
      "inflow_cfs Precision: 0.4345311854605535\n",
      "inflow_cfs Recall: 0.35428329092451233\n",
      "evap_cfs Precision: 0.3228589032655576\n",
      "evap_cfs Recall: 0.3333333333333333\n",
      "elevation_feet Precision: 0.3228589032655576\n",
      "elevation_feet Recall: 0.3333333333333333\n",
      "ppt_inches Precision: 0.3228589032655576\n",
      "ppt_inches Recall: 0.3333333333333333\n",
      "storage_taf Precision: 0.3228589032655576\n",
      "storage_taf Recall: 0.3333333333333333\n",
      "outflow_cfs Precision: 0.6274509803921569\n",
      "outflow_cfs Recall: 0.6666666666666666\n"
     ]
    }
   ],
   "source": [
    "#model for mpg\n",
    "make_model('inflow_cfs')\n",
    "make_model('evap_cfs')\n",
    "make_model('elevation_feet')\n",
    "make_model('ppt_inches')\n",
    "make_model('storage_taf')\n",
    "make_model('outflow_cfs')\n"
   ]
  },
  {
   "cell_type": "code",
   "execution_count": null,
   "metadata": {},
   "outputs": [],
   "source": []
  }
 ],
 "metadata": {
  "kernelspec": {
   "display_name": "Python 3",
   "language": "python",
   "name": "python3"
  },
  "language_info": {
   "codemirror_mode": {
    "name": "ipython",
    "version": 3
   },
   "file_extension": ".py",
   "mimetype": "text/x-python",
   "name": "python",
   "nbconvert_exporter": "python",
   "pygments_lexer": "ipython3",
   "version": "3.8.5"
  }
 },
 "nbformat": 4,
 "nbformat_minor": 4
}
